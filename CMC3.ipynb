{
 "cells": [
  {
   "cell_type": "code",
   "execution_count": 91,
   "metadata": {},
   "outputs": [
    {
     "data": {
      "text/plain": [
       "array([[ 0.1029912 ],\n",
       "       [ 0.10482249],\n",
       "       [ 0.11031637],\n",
       "       [ 0.12026079],\n",
       "       [ 0.13608   ],\n",
       "       [ 0.16038574],\n",
       "       [ 0.19802588],\n",
       "       [ 0.25852392],\n",
       "       [ 0.36237773],\n",
       "       [ 0.55987969]])"
      ]
     },
     "execution_count": 91,
     "metadata": {},
     "output_type": "execute_result"
    }
   ],
   "source": [
    "import numpy as np\n",
    "c=np.zeros((10,1))\n",
    "k=0.1\n",
    "r=np.zeros((11,1))\n",
    "for i in range(0,11):\n",
    "    r[i]=k*i\n",
    "t=10**-5\n",
    "\n",
    "def f(c,tm):\n",
    "    f=np.zeros((10,1))\n",
    "    f[0]=-3*c[0]+4*c[1]-c[2]\n",
    "    for i in range(1,10):\n",
    "        if i<9:\n",
    "            f[i]=c[i+1]*(k*i+k)+c[i-1]*(k*i-k)-2*c[i]*(k*i)-(tm**2)*(c[i]**2)*(k**3)*i\n",
    "        else:\n",
    "            f[i]=1*(k*i+k)+c[i-1]*(k*i-k)-2*c[i]*(k*i)-(tm**2)*(c[i]**2)*(k**3)*i\n",
    "    return f\n",
    "\n",
    "def J(c,tm):\n",
    "    J=np.zeros((10,10))\n",
    "    J[0,0]=-3\n",
    "    J[0,1]=4\n",
    "    J[0,2]=-1\n",
    "    for i in range(1,10):\n",
    "        fd_m1=k*i-k\n",
    "        fd_m2=-2*k*i-(tm**2)*2*c[i]*(k**3)*i\n",
    "        fd_m3=k*i+k\n",
    "        J[i,i-1]=fd_m1\n",
    "        J[i,i]=fd_m2\n",
    "        if i<9:\n",
    "            J[i,i+1]=fd_m3\n",
    "    return J\n",
    "\n",
    "def NR(c,tm):\n",
    "    s=1\n",
    "    count=0\n",
    "    while s==1:\n",
    "        c1=c-np.dot(np.linalg.inv(J(c,tm)),f(c,tm))\n",
    "        count=count+1\n",
    "        if (abs(c1-c)<t).all():\n",
    "            s=0\n",
    "            #print(count)\n",
    "            return c1\n",
    "        else:\n",
    "            c=c1\n",
    "NR(c,0.9)\n",
    "NR(c,2)\n",
    "NR(c,10)"
   ]
  },
  {
   "cell_type": "code",
   "execution_count": 68,
   "metadata": {},
   "outputs": [
    {
     "data": {
      "text/plain": [
       "array([[ 0.98111628],\n",
       "       [ 0.981302  ],\n",
       "       [ 0.98185913],\n",
       "       [ 0.98278917],\n",
       "       [ 0.98409383],\n",
       "       [ 0.98577594],\n",
       "       [ 0.98783897],\n",
       "       [ 0.99028728],\n",
       "       [ 0.99312605],\n",
       "       [ 0.99636131]])"
      ]
     },
     "execution_count": 68,
     "metadata": {},
     "output_type": "execute_result"
    }
   ],
   "source": [
    "NR(c,0.9)"
   ]
  },
  {
   "cell_type": "code",
   "execution_count": 69,
   "metadata": {},
   "outputs": [
    {
     "data": {
      "text/plain": [
       "array([[ 0.91379926],\n",
       "       [ 0.91459592],\n",
       "       [ 0.91698588],\n",
       "       [ 0.92099832],\n",
       "       [ 0.92666766],\n",
       "       [ 0.93405181],\n",
       "       [ 0.94322313],\n",
       "       [ 0.95427535],\n",
       "       [ 0.96732376],\n",
       "       [ 0.98250887]])"
      ]
     },
     "execution_count": 69,
     "metadata": {},
     "output_type": "execute_result"
    }
   ],
   "source": [
    "NR(c,2)"
   ]
  },
  {
   "cell_type": "code",
   "execution_count": 71,
   "metadata": {
    "scrolled": true
   },
   "outputs": [
    {
     "data": {
      "text/plain": [
       "array([[ 0.32407685],\n",
       "       [ 0.32661682],\n",
       "       [ 0.33423671],\n",
       "       [ 0.34777581],\n",
       "       [ 0.36839661],\n",
       "       [ 0.39833514],\n",
       "       [ 0.44124592],\n",
       "       [ 0.50352997],\n",
       "       [ 0.59693849],\n",
       "       [ 0.74493112]])"
      ]
     },
     "execution_count": 71,
     "metadata": {},
     "output_type": "execute_result"
    }
   ],
   "source": [
    "NR(c,10)"
   ]
  },
  {
   "cell_type": "code",
   "execution_count": 88,
   "metadata": {},
   "outputs": [
    {
     "name": "stdout",
     "output_type": "stream",
     "text": [
      "1\n"
     ]
    }
   ],
   "source": [
    "if abs((np.array([2,2])-np.array([3,-1]))<2.5).any():\n",
    "    print(1)"
   ]
  },
  {
   "cell_type": "code",
   "execution_count": 86,
   "metadata": {},
   "outputs": [
    {
     "data": {
      "text/plain": [
       "array([ True, False], dtype=bool)"
      ]
     },
     "execution_count": 86,
     "metadata": {},
     "output_type": "execute_result"
    }
   ],
   "source": [
    "abs(np.array([2,2])-np.array([3,-1]))<2.5"
   ]
  },
  {
   "cell_type": "code",
   "execution_count": null,
   "metadata": {
    "collapsed": true
   },
   "outputs": [],
   "source": []
  },
  {
   "cell_type": "code",
   "execution_count": null,
   "metadata": {
    "collapsed": true
   },
   "outputs": [],
   "source": []
  }
 ],
 "metadata": {
  "kernelspec": {
   "display_name": "Python 3",
   "language": "python",
   "name": "python3"
  },
  "language_info": {
   "codemirror_mode": {
    "name": "ipython",
    "version": 3
   },
   "file_extension": ".py",
   "mimetype": "text/x-python",
   "name": "python",
   "nbconvert_exporter": "python",
   "pygments_lexer": "ipython3",
   "version": "3.6.4"
  }
 },
 "nbformat": 4,
 "nbformat_minor": 2
}
