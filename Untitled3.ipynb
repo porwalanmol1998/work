{
 "cells": [
  {
   "cell_type": "code",
   "execution_count": 1,
   "metadata": {},
   "outputs": [],
   "source": [
    "import pandas as pd"
   ]
  },
  {
   "cell_type": "code",
   "execution_count": 5,
   "metadata": {},
   "outputs": [
    {
     "name": "stderr",
     "output_type": "stream",
     "text": [
      "/home/anmol/anaconda3/lib/python3.7/site-packages/ipykernel_launcher.py:1: FutureWarning: the 'parse_cols' keyword is deprecated, use 'usecols' instead\n",
      "  \"\"\"Entry point for launching an IPython kernel.\n"
     ]
    }
   ],
   "source": [
    "df=pd.read_excel(\"Test.xlsx\",skiprows=41,nrows=15,parse_cols=\"A:E\")\n"
   ]
  },
  {
   "cell_type": "code",
   "execution_count": 6,
   "metadata": {},
   "outputs": [],
   "source": [
    "df1=df['Component Name']"
   ]
  },
  {
   "cell_type": "code",
   "execution_count": 7,
   "metadata": {},
   "outputs": [
    {
     "data": {
      "text/plain": [
       "0                    Plant Recipe: 000000001530/001/000\n",
       "1           Sweetener, Maltitol, Crystalline, Form P200\n",
       "2                              Cocoa Butter, Deodorized\n",
       "3                           Chocolate Liquor, Universal\n",
       "4                  Polydextrose, Refined, Litesse Ultra\n",
       "5      Cream Powder, 72% With Caseinate, Kerry, LC 7783\n",
       "6     Sweetener, Hydrogenated Starch Hydrolysate, Po...\n",
       "7                                   Milk Fat, Anhydrous\n",
       "8                   Calcium Carbonate, Omya-Cal FG-4 AZ\n",
       "9                            Cocoa Powder, Special Dark\n",
       "10               Flavor, Butter Buds, Cream Plus, 38174\n",
       "11                 Lecithin, Soy, Unbleached, Test Free\n",
       "12                  Polyglycerol Polyricinoleate (PGPR)\n",
       "13                                  Vanillin, USP Grade\n",
       "14                                                  NaN\n",
       "Name: Component Name, dtype: object"
      ]
     },
     "execution_count": 7,
     "metadata": {},
     "output_type": "execute_result"
    }
   ],
   "source": [
    "df1"
   ]
  },
  {
   "cell_type": "code",
   "execution_count": 8,
   "metadata": {},
   "outputs": [],
   "source": [
    "df2=df['Component Number']"
   ]
  },
  {
   "cell_type": "code",
   "execution_count": 9,
   "metadata": {},
   "outputs": [
    {
     "data": {
      "text/plain": [
       "0             NaN\n",
       "1     1-00575-000\n",
       "2     8-90100-010\n",
       "3     1-01628-000\n",
       "4     1-00049-000\n",
       "5     1-08315-000\n",
       "6     1-05270-000\n",
       "7     9-66810-000\n",
       "8     1-92041-000\n",
       "9     7-12300-000\n",
       "10    1-05269-000\n",
       "11    9-65900-000\n",
       "12    9-70700-000\n",
       "13    9-60100-000\n",
       "14            NaN\n",
       "Name: Component Number, dtype: object"
      ]
     },
     "execution_count": 9,
     "metadata": {},
     "output_type": "execute_result"
    }
   ],
   "source": [
    "df2"
   ]
  },
  {
   "cell_type": "code",
   "execution_count": 28,
   "metadata": {},
   "outputs": [
    {
     "ename": "TypeError",
     "evalue": "'DataFrame' objects are mutable, thus they cannot be hashed",
     "output_type": "error",
     "traceback": [
      "\u001b[0;31m---------------------------------------------------------------------------\u001b[0m",
      "\u001b[0;31mTypeError\u001b[0m                                 Traceback (most recent call last)",
      "\u001b[0;32m<ipython-input-28-b9fdad9b571b>\u001b[0m in \u001b[0;36m<module>\u001b[0;34m\u001b[0m\n\u001b[0;32m----> 1\u001b[0;31m \u001b[0md\u001b[0m\u001b[0;34m=\u001b[0m\u001b[0;34m{\u001b[0m\u001b[0mpd\u001b[0m\u001b[0;34m.\u001b[0m\u001b[0mSeries\u001b[0m\u001b[0;34m.\u001b[0m\u001b[0mto_frame\u001b[0m\u001b[0;34m(\u001b[0m\u001b[0mdf1\u001b[0m\u001b[0;34m)\u001b[0m\u001b[0;34m,\u001b[0m\u001b[0mpd\u001b[0m\u001b[0;34m.\u001b[0m\u001b[0mSeries\u001b[0m\u001b[0;34m.\u001b[0m\u001b[0mto_frame\u001b[0m\u001b[0;34m(\u001b[0m\u001b[0mdf2\u001b[0m\u001b[0;34m)\u001b[0m\u001b[0;34m}\u001b[0m\u001b[0;34m\u001b[0m\u001b[0;34m\u001b[0m\u001b[0m\n\u001b[0m",
      "\u001b[0;32m~/anaconda3/lib/python3.7/site-packages/pandas/core/generic.py\u001b[0m in \u001b[0;36m__hash__\u001b[0;34m(self)\u001b[0m\n\u001b[1;32m   1814\u001b[0m     \u001b[0;32mdef\u001b[0m \u001b[0m__hash__\u001b[0m\u001b[0;34m(\u001b[0m\u001b[0mself\u001b[0m\u001b[0;34m)\u001b[0m\u001b[0;34m:\u001b[0m\u001b[0;34m\u001b[0m\u001b[0;34m\u001b[0m\u001b[0m\n\u001b[1;32m   1815\u001b[0m         raise TypeError('{0!r} objects are mutable, thus they cannot be'\n\u001b[0;32m-> 1816\u001b[0;31m                         ' hashed'.format(self.__class__.__name__))\n\u001b[0m\u001b[1;32m   1817\u001b[0m \u001b[0;34m\u001b[0m\u001b[0m\n\u001b[1;32m   1818\u001b[0m     \u001b[0;32mdef\u001b[0m \u001b[0m__iter__\u001b[0m\u001b[0;34m(\u001b[0m\u001b[0mself\u001b[0m\u001b[0;34m)\u001b[0m\u001b[0;34m:\u001b[0m\u001b[0;34m\u001b[0m\u001b[0;34m\u001b[0m\u001b[0m\n",
      "\u001b[0;31mTypeError\u001b[0m: 'DataFrame' objects are mutable, thus they cannot be hashed"
     ]
    }
   ],
   "source": [
    "d={pd.Series.to_frame(df1),pd.Series.to_frame(df2)}"
   ]
  },
  {
   "cell_type": "code",
   "execution_count": 13,
   "metadata": {},
   "outputs": [
    {
     "data": {
      "text/plain": [
       "dtype('O')"
      ]
     },
     "execution_count": 13,
     "metadata": {},
     "output_type": "execute_result"
    }
   ],
   "source": [
    "df1.dtype"
   ]
  },
  {
   "cell_type": "code",
   "execution_count": 19,
   "metadata": {
    "scrolled": true
   },
   "outputs": [
    {
     "name": "stderr",
     "output_type": "stream",
     "text": [
      "/home/anmol/anaconda3/lib/python3.7/site-packages/ipykernel_launcher.py:1: FutureWarning: Method .as_matrix will be removed in a future version. Use .values instead.\n",
      "  \"\"\"Entry point for launching an IPython kernel.\n"
     ]
    },
    {
     "data": {
      "text/plain": [
       "array(['Plant Recipe: 000000001530/001/000',\n",
       "       'Sweetener, Maltitol, Crystalline, Form P200',\n",
       "       'Cocoa Butter, Deodorized', 'Chocolate Liquor, Universal',\n",
       "       'Polydextrose, Refined, Litesse Ultra',\n",
       "       'Cream Powder, 72% With Caseinate, Kerry, LC 7783',\n",
       "       'Sweetener, Hydrogenated Starch Hydrolysate, Polyglycitol, (95% dry substance)',\n",
       "       'Milk Fat, Anhydrous', 'Calcium Carbonate, Omya-Cal FG-4 AZ',\n",
       "       'Cocoa Powder, Special Dark',\n",
       "       'Flavor, Butter Buds, Cream Plus, 38174',\n",
       "       'Lecithin, Soy, Unbleached, Test Free',\n",
       "       'Polyglycerol Polyricinoleate (PGPR)', 'Vanillin, USP Grade', nan],\n",
       "      dtype=object)"
      ]
     },
     "execution_count": 19,
     "metadata": {},
     "output_type": "execute_result"
    }
   ],
   "source": [
    "pd.Series.as_matrix(df1)"
   ]
  },
  {
   "cell_type": "code",
   "execution_count": 23,
   "metadata": {},
   "outputs": [],
   "source": [
    "df5=pd.DataFrame([[1,2],[2,3]])"
   ]
  },
  {
   "cell_type": "code",
   "execution_count": 24,
   "metadata": {},
   "outputs": [
    {
     "data": {
      "text/html": [
       "<div>\n",
       "<style scoped>\n",
       "    .dataframe tbody tr th:only-of-type {\n",
       "        vertical-align: middle;\n",
       "    }\n",
       "\n",
       "    .dataframe tbody tr th {\n",
       "        vertical-align: top;\n",
       "    }\n",
       "\n",
       "    .dataframe thead th {\n",
       "        text-align: right;\n",
       "    }\n",
       "</style>\n",
       "<table border=\"1\" class=\"dataframe\">\n",
       "  <thead>\n",
       "    <tr style=\"text-align: right;\">\n",
       "      <th></th>\n",
       "      <th>0</th>\n",
       "      <th>1</th>\n",
       "    </tr>\n",
       "  </thead>\n",
       "  <tbody>\n",
       "    <tr>\n",
       "      <th>0</th>\n",
       "      <td>1</td>\n",
       "      <td>2</td>\n",
       "    </tr>\n",
       "    <tr>\n",
       "      <th>1</th>\n",
       "      <td>2</td>\n",
       "      <td>3</td>\n",
       "    </tr>\n",
       "  </tbody>\n",
       "</table>\n",
       "</div>"
      ],
      "text/plain": [
       "   0  1\n",
       "0  1  2\n",
       "1  2  3"
      ]
     },
     "execution_count": 24,
     "metadata": {},
     "output_type": "execute_result"
    }
   ],
   "source": [
    "df5"
   ]
  },
  {
   "cell_type": "code",
   "execution_count": 27,
   "metadata": {},
   "outputs": [
    {
     "data": {
      "text/html": [
       "<div>\n",
       "<style scoped>\n",
       "    .dataframe tbody tr th:only-of-type {\n",
       "        vertical-align: middle;\n",
       "    }\n",
       "\n",
       "    .dataframe tbody tr th {\n",
       "        vertical-align: top;\n",
       "    }\n",
       "\n",
       "    .dataframe thead th {\n",
       "        text-align: right;\n",
       "    }\n",
       "</style>\n",
       "<table border=\"1\" class=\"dataframe\">\n",
       "  <thead>\n",
       "    <tr style=\"text-align: right;\">\n",
       "      <th></th>\n",
       "      <th>Component Name</th>\n",
       "    </tr>\n",
       "  </thead>\n",
       "  <tbody>\n",
       "    <tr>\n",
       "      <th>0</th>\n",
       "      <td>Plant Recipe: 000000001530/001/000</td>\n",
       "    </tr>\n",
       "    <tr>\n",
       "      <th>1</th>\n",
       "      <td>Sweetener, Maltitol, Crystalline, Form P200</td>\n",
       "    </tr>\n",
       "    <tr>\n",
       "      <th>2</th>\n",
       "      <td>Cocoa Butter, Deodorized</td>\n",
       "    </tr>\n",
       "    <tr>\n",
       "      <th>3</th>\n",
       "      <td>Chocolate Liquor, Universal</td>\n",
       "    </tr>\n",
       "    <tr>\n",
       "      <th>4</th>\n",
       "      <td>Polydextrose, Refined, Litesse Ultra</td>\n",
       "    </tr>\n",
       "    <tr>\n",
       "      <th>5</th>\n",
       "      <td>Cream Powder, 72% With Caseinate, Kerry, LC 7783</td>\n",
       "    </tr>\n",
       "    <tr>\n",
       "      <th>6</th>\n",
       "      <td>Sweetener, Hydrogenated Starch Hydrolysate, Po...</td>\n",
       "    </tr>\n",
       "    <tr>\n",
       "      <th>7</th>\n",
       "      <td>Milk Fat, Anhydrous</td>\n",
       "    </tr>\n",
       "    <tr>\n",
       "      <th>8</th>\n",
       "      <td>Calcium Carbonate, Omya-Cal FG-4 AZ</td>\n",
       "    </tr>\n",
       "    <tr>\n",
       "      <th>9</th>\n",
       "      <td>Cocoa Powder, Special Dark</td>\n",
       "    </tr>\n",
       "    <tr>\n",
       "      <th>10</th>\n",
       "      <td>Flavor, Butter Buds, Cream Plus, 38174</td>\n",
       "    </tr>\n",
       "    <tr>\n",
       "      <th>11</th>\n",
       "      <td>Lecithin, Soy, Unbleached, Test Free</td>\n",
       "    </tr>\n",
       "    <tr>\n",
       "      <th>12</th>\n",
       "      <td>Polyglycerol Polyricinoleate (PGPR)</td>\n",
       "    </tr>\n",
       "    <tr>\n",
       "      <th>13</th>\n",
       "      <td>Vanillin, USP Grade</td>\n",
       "    </tr>\n",
       "    <tr>\n",
       "      <th>14</th>\n",
       "      <td>NaN</td>\n",
       "    </tr>\n",
       "  </tbody>\n",
       "</table>\n",
       "</div>"
      ],
      "text/plain": [
       "                                       Component Name\n",
       "0                  Plant Recipe: 000000001530/001/000\n",
       "1         Sweetener, Maltitol, Crystalline, Form P200\n",
       "2                            Cocoa Butter, Deodorized\n",
       "3                         Chocolate Liquor, Universal\n",
       "4                Polydextrose, Refined, Litesse Ultra\n",
       "5    Cream Powder, 72% With Caseinate, Kerry, LC 7783\n",
       "6   Sweetener, Hydrogenated Starch Hydrolysate, Po...\n",
       "7                                 Milk Fat, Anhydrous\n",
       "8                 Calcium Carbonate, Omya-Cal FG-4 AZ\n",
       "9                          Cocoa Powder, Special Dark\n",
       "10             Flavor, Butter Buds, Cream Plus, 38174\n",
       "11               Lecithin, Soy, Unbleached, Test Free\n",
       "12                Polyglycerol Polyricinoleate (PGPR)\n",
       "13                                Vanillin, USP Grade\n",
       "14                                                NaN"
      ]
     },
     "execution_count": 27,
     "metadata": {},
     "output_type": "execute_result"
    }
   ],
   "source": [
    "pd.Series.to_frame(df1)"
   ]
  },
  {
   "cell_type": "code",
   "execution_count": 29,
   "metadata": {},
   "outputs": [
    {
     "data": {
      "text/html": [
       "<div>\n",
       "<style scoped>\n",
       "    .dataframe tbody tr th:only-of-type {\n",
       "        vertical-align: middle;\n",
       "    }\n",
       "\n",
       "    .dataframe tbody tr th {\n",
       "        vertical-align: top;\n",
       "    }\n",
       "\n",
       "    .dataframe thead th {\n",
       "        text-align: right;\n",
       "    }\n",
       "</style>\n",
       "<table border=\"1\" class=\"dataframe\">\n",
       "  <thead>\n",
       "    <tr style=\"text-align: right;\">\n",
       "      <th></th>\n",
       "      <th>Component Name</th>\n",
       "      <th>Component Number</th>\n",
       "    </tr>\n",
       "  </thead>\n",
       "  <tbody>\n",
       "    <tr>\n",
       "      <th>0</th>\n",
       "      <td>Plant Recipe: 000000001530/001/000</td>\n",
       "      <td>NaN</td>\n",
       "    </tr>\n",
       "    <tr>\n",
       "      <th>1</th>\n",
       "      <td>Sweetener, Maltitol, Crystalline, Form P200</td>\n",
       "      <td>1-00575-000</td>\n",
       "    </tr>\n",
       "    <tr>\n",
       "      <th>2</th>\n",
       "      <td>Cocoa Butter, Deodorized</td>\n",
       "      <td>8-90100-010</td>\n",
       "    </tr>\n",
       "    <tr>\n",
       "      <th>3</th>\n",
       "      <td>Chocolate Liquor, Universal</td>\n",
       "      <td>1-01628-000</td>\n",
       "    </tr>\n",
       "    <tr>\n",
       "      <th>4</th>\n",
       "      <td>Polydextrose, Refined, Litesse Ultra</td>\n",
       "      <td>1-00049-000</td>\n",
       "    </tr>\n",
       "    <tr>\n",
       "      <th>5</th>\n",
       "      <td>Cream Powder, 72% With Caseinate, Kerry, LC 7783</td>\n",
       "      <td>1-08315-000</td>\n",
       "    </tr>\n",
       "    <tr>\n",
       "      <th>6</th>\n",
       "      <td>Sweetener, Hydrogenated Starch Hydrolysate, Po...</td>\n",
       "      <td>1-05270-000</td>\n",
       "    </tr>\n",
       "    <tr>\n",
       "      <th>7</th>\n",
       "      <td>Milk Fat, Anhydrous</td>\n",
       "      <td>9-66810-000</td>\n",
       "    </tr>\n",
       "    <tr>\n",
       "      <th>8</th>\n",
       "      <td>Calcium Carbonate, Omya-Cal FG-4 AZ</td>\n",
       "      <td>1-92041-000</td>\n",
       "    </tr>\n",
       "    <tr>\n",
       "      <th>9</th>\n",
       "      <td>Cocoa Powder, Special Dark</td>\n",
       "      <td>7-12300-000</td>\n",
       "    </tr>\n",
       "    <tr>\n",
       "      <th>10</th>\n",
       "      <td>Flavor, Butter Buds, Cream Plus, 38174</td>\n",
       "      <td>1-05269-000</td>\n",
       "    </tr>\n",
       "    <tr>\n",
       "      <th>11</th>\n",
       "      <td>Lecithin, Soy, Unbleached, Test Free</td>\n",
       "      <td>9-65900-000</td>\n",
       "    </tr>\n",
       "    <tr>\n",
       "      <th>12</th>\n",
       "      <td>Polyglycerol Polyricinoleate (PGPR)</td>\n",
       "      <td>9-70700-000</td>\n",
       "    </tr>\n",
       "    <tr>\n",
       "      <th>13</th>\n",
       "      <td>Vanillin, USP Grade</td>\n",
       "      <td>9-60100-000</td>\n",
       "    </tr>\n",
       "    <tr>\n",
       "      <th>14</th>\n",
       "      <td>NaN</td>\n",
       "      <td>NaN</td>\n",
       "    </tr>\n",
       "  </tbody>\n",
       "</table>\n",
       "</div>"
      ],
      "text/plain": [
       "                                       Component Name Component Number\n",
       "0                  Plant Recipe: 000000001530/001/000              NaN\n",
       "1         Sweetener, Maltitol, Crystalline, Form P200      1-00575-000\n",
       "2                            Cocoa Butter, Deodorized      8-90100-010\n",
       "3                         Chocolate Liquor, Universal      1-01628-000\n",
       "4                Polydextrose, Refined, Litesse Ultra      1-00049-000\n",
       "5    Cream Powder, 72% With Caseinate, Kerry, LC 7783      1-08315-000\n",
       "6   Sweetener, Hydrogenated Starch Hydrolysate, Po...      1-05270-000\n",
       "7                                 Milk Fat, Anhydrous      9-66810-000\n",
       "8                 Calcium Carbonate, Omya-Cal FG-4 AZ      1-92041-000\n",
       "9                          Cocoa Powder, Special Dark      7-12300-000\n",
       "10             Flavor, Butter Buds, Cream Plus, 38174      1-05269-000\n",
       "11               Lecithin, Soy, Unbleached, Test Free      9-65900-000\n",
       "12                Polyglycerol Polyricinoleate (PGPR)      9-70700-000\n",
       "13                                Vanillin, USP Grade      9-60100-000\n",
       "14                                                NaN              NaN"
      ]
     },
     "execution_count": 29,
     "metadata": {},
     "output_type": "execute_result"
    }
   ],
   "source": [
    "pd.concat([df1, df2], axis=1)"
   ]
  },
  {
   "cell_type": "code",
   "execution_count": 32,
   "metadata": {},
   "outputs": [],
   "source": [
    "pd.concat([df1, df2], axis=1).to_excel(\"output.xlsx\", sheet_name='Sheet_name_1',index=False)"
   ]
  },
  {
   "cell_type": "code",
   "execution_count": null,
   "metadata": {},
   "outputs": [],
   "source": []
  }
 ],
 "metadata": {
  "kernelspec": {
   "display_name": "Python 3",
   "language": "python",
   "name": "python3"
  },
  "language_info": {
   "codemirror_mode": {
    "name": "ipython",
    "version": 3
   },
   "file_extension": ".py",
   "mimetype": "text/x-python",
   "name": "python",
   "nbconvert_exporter": "python",
   "pygments_lexer": "ipython3",
   "version": "3.7.3"
  }
 },
 "nbformat": 4,
 "nbformat_minor": 2
}
